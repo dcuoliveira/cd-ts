{
 "cells": [
  {
   "cell_type": "code",
   "execution_count": null,
   "metadata": {},
   "outputs": [],
   "source": []
  }
 ],
 "metadata": {
  "kernelspec": {
   "display_name": "torch",
   "language": "python",
   "name": "python3"
  },
  "language_info": {
   "name": "python",
   "version": "3.10.9 (main, Jan 11 2023, 09:18:20) [Clang 14.0.6 ]"
  },
  "orig_nbformat": 4,
  "vscode": {
   "interpreter": {
    "hash": "8bd3325b1e148b7ccd001bb0c3583f22709fd7c160b5925c7aaf985f1c9796e7"
   }
  }
 },
 "nbformat": 4,
 "nbformat_minor": 2
}
